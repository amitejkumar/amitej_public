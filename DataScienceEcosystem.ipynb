{
 "cells": [
  {
   "cell_type": "markdown",
   "id": "59f7129d-8390-4e76-87ab-69bcab0b52bc",
   "metadata": {},
   "source": [
    "# H1: Data Science Tools and Ecosystems"
   ]
  },
  {
   "cell_type": "markdown",
   "id": "3aadb6cc-21ff-4f30-bc19-07023cda3f0f",
   "metadata": {},
   "source": [
    "In this notebook, Data Science Tools and Ecosystem are summarized."
   ]
  },
  {
   "cell_type": "markdown",
   "id": "26659fa4-852a-4bd1-862a-4cd6a4cdab49",
   "metadata": {
    "tags": []
   },
   "source": [
    "**Objectives:**\n",
    "- Popular Languages that data scientists use.\n",
    "- Commonly used libraries by data scientists.\n",
    "- Listing tables in python.\n",
    "- Learning multiplication and addition in python.\n",
    "- Learning division in python."
   ]
  },
  {
   "cell_type": "markdown",
   "id": "d8672e8f-f834-421f-a234-32e0f844cd33",
   "metadata": {},
   "source": [
    "Some of the popular languages that Data Scientists use are:\n",
    "1. Python\n",
    "2. Julia\n",
    "3. R"
   ]
  },
  {
   "cell_type": "markdown",
   "id": "26f9bc1a-617e-4822-8f7f-3a6a7eba4417",
   "metadata": {
    "tags": []
   },
   "source": [
    "Some of the commonly used libraries used by Data Scientists include:\n",
    "1. Numpys\n",
    "2. Pandas\n",
    "3. Matplotlib"
   ]
  },
  {
   "cell_type": "markdown",
   "id": "795e4c8f-6bff-468a-922f-6b3bf4128a58",
   "metadata": {},
   "source": [
    "|Data Science Tools|\n",
    "--------------------\n",
    "|Jupyter Notebook|\n",
    "|RStudio|\n",
    "|Jupyter Lab|\n",
    "|VS Code|"
   ]
  },
  {
   "cell_type": "markdown",
   "id": "7756da5c-f76d-4696-ac38-4d74401d737f",
   "metadata": {},
   "source": [
    "### H3: Below are a few examples of evaluating arithmetic expressions in Python"
   ]
  },
  {
   "cell_type": "code",
   "execution_count": 2,
   "id": "0b4c71b8-8df2-4f2c-9b87-9c8733932990",
   "metadata": {
    "tags": []
   },
   "outputs": [
    {
     "data": {
      "text/plain": [
       "17"
      ]
     },
     "execution_count": 2,
     "metadata": {},
     "output_type": "execute_result"
    }
   ],
   "source": [
    "# This is a simple arithmetic expression to mutiply then add integers\n",
    "(3*4)+5"
   ]
  },
  {
   "cell_type": "code",
   "execution_count": 6,
   "id": "5e26c075-5572-44a2-afd3-985d819fb777",
   "metadata": {
    "tags": []
   },
   "outputs": [
    {
     "data": {
      "text/plain": [
       "3.3333333333333335"
      ]
     },
     "execution_count": 6,
     "metadata": {},
     "output_type": "execute_result"
    }
   ],
   "source": [
    "# This will convert 200 minutes to hours by diving by 60\n",
    "200/60"
   ]
  },
  {
   "cell_type": "markdown",
   "id": "797853d2-89d8-431f-83bd-b7e456aa79c4",
   "metadata": {},
   "source": [
    "## H2: Author\n",
    "Amitej Kumar Upadhyay"
   ]
  },
  {
   "cell_type": "code",
   "execution_count": null,
   "id": "d0c1a95b-861a-47d4-a185-90088bd885d6",
   "metadata": {},
   "outputs": [],
   "source": []
  }
 ],
 "metadata": {
  "kernelspec": {
   "display_name": "Python",
   "language": "python",
   "name": "conda-env-python-py"
  },
  "language_info": {
   "codemirror_mode": {
    "name": "ipython",
    "version": 3
   },
   "file_extension": ".py",
   "mimetype": "text/x-python",
   "name": "python",
   "nbconvert_exporter": "python",
   "pygments_lexer": "ipython3",
   "version": "3.7.12"
  }
 },
 "nbformat": 4,
 "nbformat_minor": 5
}
